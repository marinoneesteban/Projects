{
 "cells": [
  {
   "cell_type": "markdown",
   "id": "c098cfd4",
   "metadata": {},
   "source": [
    "## This is a small example on how to use the Naive Bayes model to solve a classification problem"
   ]
  },
  {
   "cell_type": "code",
   "execution_count": 5,
   "id": "7b18aa24",
   "metadata": {},
   "outputs": [
    {
     "data": {
      "text/html": [
       "<table>\n",
       "<thead><tr><th scope=col>X</th><th scope=col>A</th><th scope=col>B</th><th scope=col>C</th><th scope=col>D</th><th scope=col>E</th><th scope=col>R</th></tr></thead>\n",
       "<tbody>\n",
       "\t<tr><td>1</td><td>3</td><td>3</td><td>5</td><td>1</td><td>2</td><td>0</td></tr>\n",
       "\t<tr><td>2</td><td>3</td><td>4</td><td>4</td><td>2</td><td>4</td><td>1</td></tr>\n",
       "\t<tr><td>3</td><td>3</td><td>2</td><td>4</td><td>1</td><td>5</td><td>1</td></tr>\n",
       "\t<tr><td>4</td><td>2</td><td>3</td><td>2</td><td>2</td><td>8</td><td>1</td></tr>\n",
       "\t<tr><td>5</td><td>1</td><td>4</td><td>2</td><td>2</td><td>5</td><td>1</td></tr>\n",
       "\t<tr><td>6</td><td>5</td><td>1</td><td>4</td><td>1</td><td>4</td><td>1</td></tr>\n",
       "</tbody>\n",
       "</table>\n"
      ],
      "text/latex": [
       "\\begin{tabular}{r|lllllll}\n",
       " X & A & B & C & D & E & R\\\\\n",
       "\\hline\n",
       "\t 1 & 3 & 3 & 5 & 1 & 2 & 0\\\\\n",
       "\t 2 & 3 & 4 & 4 & 2 & 4 & 1\\\\\n",
       "\t 3 & 3 & 2 & 4 & 1 & 5 & 1\\\\\n",
       "\t 4 & 2 & 3 & 2 & 2 & 8 & 1\\\\\n",
       "\t 5 & 1 & 4 & 2 & 2 & 5 & 1\\\\\n",
       "\t 6 & 5 & 1 & 4 & 1 & 4 & 1\\\\\n",
       "\\end{tabular}\n"
      ],
      "text/markdown": [
       "\n",
       "| X | A | B | C | D | E | R |\n",
       "|---|---|---|---|---|---|---|\n",
       "| 1 | 3 | 3 | 5 | 1 | 2 | 0 |\n",
       "| 2 | 3 | 4 | 4 | 2 | 4 | 1 |\n",
       "| 3 | 3 | 2 | 4 | 1 | 5 | 1 |\n",
       "| 4 | 2 | 3 | 2 | 2 | 8 | 1 |\n",
       "| 5 | 1 | 4 | 2 | 2 | 5 | 1 |\n",
       "| 6 | 5 | 1 | 4 | 1 | 4 | 1 |\n",
       "\n"
      ],
      "text/plain": [
       "  X A B C D E R\n",
       "1 1 3 3 5 1 2 0\n",
       "2 2 3 4 4 2 4 1\n",
       "3 3 3 2 4 1 5 1\n",
       "4 4 2 3 2 2 8 1\n",
       "5 5 1 4 2 2 5 1\n",
       "6 6 5 1 4 1 4 1"
      ]
     },
     "metadata": {},
     "output_type": "display_data"
    }
   ],
   "source": [
    "#Load data and inspect\n",
    "h<-read.csv('Categoricos1.csv',sep=';')\n",
    "head(h)"
   ]
  },
  {
   "cell_type": "code",
   "execution_count": 29,
   "id": "9f009174",
   "metadata": {},
   "outputs": [
    {
     "data": {
      "text/html": [
       "1000"
      ],
      "text/latex": [
       "1000"
      ],
      "text/markdown": [
       "1000"
      ],
      "text/plain": [
       "[1] 1000"
      ]
     },
     "metadata": {},
     "output_type": "display_data"
    }
   ],
   "source": [
    "# Check how many values we have\n",
    "nrow(h)"
   ]
  },
  {
   "cell_type": "code",
   "execution_count": 6,
   "id": "9a271e20",
   "metadata": {},
   "outputs": [],
   "source": [
    "# The dataset consist in n cases with 5 attributes (A, B, C, D, E) and a categorical result R"
   ]
  },
  {
   "cell_type": "code",
   "execution_count": 7,
   "id": "3f5786ea",
   "metadata": {},
   "outputs": [
    {
     "data": {
      "text/plain": [
       "\n",
       "  0   1   2   3   4 \n",
       "114 619 225  40   2 "
      ]
     },
     "metadata": {},
     "output_type": "display_data"
    }
   ],
   "source": [
    "#Take a look at the results that we want to clasify\n",
    "table(h$R)"
   ]
  },
  {
   "cell_type": "code",
   "execution_count": 8,
   "id": "37b746ee",
   "metadata": {},
   "outputs": [],
   "source": [
    "# There are 5 different results"
   ]
  },
  {
   "cell_type": "code",
   "execution_count": 9,
   "id": "ab4c7138",
   "metadata": {},
   "outputs": [],
   "source": [
    "#Convert results to factor\n",
    "h$R<-as.factor(h$R)"
   ]
  },
  {
   "cell_type": "code",
   "execution_count": 10,
   "id": "fd179f8c",
   "metadata": {},
   "outputs": [],
   "source": [
    "# Split in train and test\n",
    "x<-runif(nrow(h))\n",
    "htrain<-h[which(x<.7),]\n",
    "htest<-h[which(x>=.7),]"
   ]
  },
  {
   "cell_type": "code",
   "execution_count": 11,
   "id": "d2f70030",
   "metadata": {},
   "outputs": [],
   "source": [
    "# Load the library for using Naive Bayes suppressing the warning\n",
    "suppressWarnings(library(e1071))"
   ]
  },
  {
   "cell_type": "code",
   "execution_count": 12,
   "id": "4171661d",
   "metadata": {},
   "outputs": [],
   "source": [
    "# Build the model using the train set\n",
    "nb <- naiveBayes(R ~X + A + B + C + D + E , htrain)"
   ]
  },
  {
   "cell_type": "code",
   "execution_count": 13,
   "id": "5c9160ed",
   "metadata": {},
   "outputs": [],
   "source": [
    "# Predict\n",
    "p <- predict(nb,newdata = htest)"
   ]
  },
  {
   "cell_type": "code",
   "execution_count": 14,
   "id": "1516a323",
   "metadata": {},
   "outputs": [
    {
     "name": "stdout",
     "output_type": "stream",
     "text": [
      " Factor w/ 5 levels \"0\",\"1\",\"2\",\"3\",..: 2 2 2 2 2 2 2 2 2 2 ...\n"
     ]
    }
   ],
   "source": [
    "# Check the structure of the prediction\n",
    "str(p)"
   ]
  },
  {
   "cell_type": "code",
   "execution_count": 15,
   "id": "660b99f4",
   "metadata": {},
   "outputs": [
    {
     "name": "stdout",
     "output_type": "stream",
     "text": [
      " chr [1:298] \"1\" \"1\" \"1\" \"1\" \"1\" \"1\" \"1\" \"1\" \"1\" \"1\" \"1\" \"1\" \"0\" \"1\" \"1\" ...\n"
     ]
    }
   ],
   "source": [
    "# Convert p to vector form\n",
    "stp <- as.vector(p)\n",
    "str(stp)"
   ]
  },
  {
   "cell_type": "code",
   "execution_count": 16,
   "id": "04fb70f9",
   "metadata": {},
   "outputs": [
    {
     "data": {
      "text/plain": [
       "stp\n",
       "  0   1   2 \n",
       "  7 290   1 "
      ]
     },
     "metadata": {},
     "output_type": "display_data"
    }
   ],
   "source": [
    "# Inspect stp\n",
    "table(stp)"
   ]
  },
  {
   "cell_type": "code",
   "execution_count": 17,
   "id": "d010fa8b",
   "metadata": {},
   "outputs": [
    {
     "data": {
      "text/html": [
       "0.614093959731544"
      ],
      "text/latex": [
       "0.614093959731544"
      ],
      "text/markdown": [
       "0.614093959731544"
      ],
      "text/plain": [
       "[1] 0.614094"
      ]
     },
     "metadata": {},
     "output_type": "display_data"
    }
   ],
   "source": [
    "# Evaluate succesful predictions\n",
    "\n",
    "pv <- as.vector(p)\n",
    "rv <- as.vector(htest$R)\n",
    "success <- length(which(pv==rv))\n",
    "total <- nrow(htest)\n",
    "success/total"
   ]
  },
  {
   "cell_type": "code",
   "execution_count": 18,
   "id": "c1c2e405",
   "metadata": {},
   "outputs": [
    {
     "data": {
      "text/html": [
       "<table>\n",
       "<tbody>\n",
       "\t<tr><td> 6 </td><td>  1</td><td> 0 </td><td> 0 </td><td>0  </td></tr>\n",
       "\t<tr><td>31 </td><td>177</td><td>66 </td><td>15 </td><td>1  </td></tr>\n",
       "\t<tr><td> 0 </td><td>  0</td><td> 0 </td><td> 1 </td><td>0  </td></tr>\n",
       "\t<tr><td> 0 </td><td>  0</td><td> 0 </td><td> 0 </td><td>0  </td></tr>\n",
       "\t<tr><td> 0 </td><td>  0</td><td> 0 </td><td> 0 </td><td>0  </td></tr>\n",
       "</tbody>\n",
       "</table>\n"
      ],
      "text/latex": [
       "\\begin{tabular}{lllll}\n",
       "\t  6  &   1 &  0  &  0  & 0  \\\\\n",
       "\t 31  & 177 & 66  & 15  & 1  \\\\\n",
       "\t  0  &   0 &  0  &  1  & 0  \\\\\n",
       "\t  0  &   0 &  0  &  0  & 0  \\\\\n",
       "\t  0  &   0 &  0  &  0  & 0  \\\\\n",
       "\\end{tabular}\n"
      ],
      "text/markdown": [
       "\n",
       "|  6  |   1 |  0  |  0  | 0   |\n",
       "| 31  | 177 | 66  | 15  | 1   |\n",
       "|  0  |   0 |  0  |  1  | 0   |\n",
       "|  0  |   0 |  0  |  0  | 0   |\n",
       "|  0  |   0 |  0  |  0  | 0   |\n",
       "\n"
      ],
      "text/plain": [
       "     [,1] [,2] [,3] [,4] [,5]\n",
       "[1,]  6     1   0    0   0   \n",
       "[2,] 31   177  66   15   1   \n",
       "[3,]  0     0   0    1   0   \n",
       "[4,]  0     0   0    0   0   \n",
       "[5,]  0     0   0    0   0   "
      ]
     },
     "metadata": {},
     "output_type": "display_data"
    }
   ],
   "source": [
    "## We build a matrix and fill it with the results\n",
    "\n",
    "m <- matrix(nrow=5, ncol=5, 0)\n",
    "\n",
    "for(i in 0:4)\n",
    "{ \n",
    "for(j in 0:4)\n",
    "{\n",
    "m[i+1,j+1] <- length(which(pv == i & rv == j))\n",
    "}\n",
    "}\n",
    "\n",
    "m"
   ]
  },
  {
   "cell_type": "code",
   "execution_count": 19,
   "id": "62577cdc",
   "metadata": {},
   "outputs": [],
   "source": [
    "# Not every error is the same, some are closer than others. We check the almost succesful predictions\n",
    "almost <- length(which(abs((as.numeric(rv)-as.numeric(pv)))<=1))"
   ]
  },
  {
   "cell_type": "code",
   "execution_count": 20,
   "id": "92cd05f9",
   "metadata": {},
   "outputs": [
    {
     "data": {
      "text/html": [
       "0.946308724832215"
      ],
      "text/latex": [
       "0.946308724832215"
      ],
      "text/markdown": [
       "0.946308724832215"
      ],
      "text/plain": [
       "[1] 0.9463087"
      ]
     },
     "metadata": {},
     "output_type": "display_data"
    }
   ],
   "source": [
    "# Percentage\n",
    "almost/nrow(htest)"
   ]
  },
  {
   "cell_type": "code",
   "execution_count": 21,
   "id": "c787a04d",
   "metadata": {},
   "outputs": [],
   "source": [
    "# Classes with less values are more predominant to errors. To reduce this effect it is recommended to rebalance the classes.\n",
    "# To do that we separate every class\n",
    "h0 <- h[which(h$R==0),]\n",
    "h1 <- h[which(h$R==1),]\n",
    "h2 <- h[which(h$R==2),]\n",
    "h3 <- h[which(h$R==3),]\n",
    "h4 <- h[which(h$R==4),]"
   ]
  },
  {
   "cell_type": "code",
   "execution_count": 22,
   "id": "a994ddb8",
   "metadata": {},
   "outputs": [],
   "source": [
    "# We create a filter to diminish those classes with more values\n",
    "cnt <- 100\n",
    "\n",
    "h0f <- h0[which(runif(nrow(h0))<cnt/nrow(h0)),]\n",
    "h1f <- h1[which(runif(nrow(h1))<cnt/nrow(h1)),]\n",
    "h2f <- h2[which(runif(nrow(h2))<cnt/nrow(h2)),]\n",
    "h3f <- h3[which(runif(nrow(h3))<cnt/nrow(h3)),]\n",
    "h4f <- h4[which(runif(nrow(h4))<cnt/nrow(h4)),]\n",
    "\n",
    "hf <- rbind(h0f,h1f,h2f,h3f,h4f)"
   ]
  },
  {
   "cell_type": "code",
   "execution_count": 23,
   "id": "0fdd3e9e",
   "metadata": {},
   "outputs": [
    {
     "data": {
      "text/plain": [
       "\n",
       "  0   1   2   3   4 \n",
       "101  92 103  40   2 "
      ]
     },
     "metadata": {},
     "output_type": "display_data"
    },
    {
     "data": {
      "text/plain": [
       "\n",
       "  0   1   2   3   4 \n",
       "114 619 225  40   2 "
      ]
     },
     "metadata": {},
     "output_type": "display_data"
    }
   ],
   "source": [
    "# We compare the number of cases with the original dataset and the rebalanced one\n",
    "table(hf$R)\n",
    "table(h$R)"
   ]
  },
  {
   "cell_type": "code",
   "execution_count": 24,
   "id": "9b4b5934",
   "metadata": {},
   "outputs": [],
   "source": [
    "# We build the new model\n",
    "x <- runif(nrow(hf))\n",
    "hftrain <- hf[which(x<.7),]\n",
    "hftest <- hf[which(x>=.7),]\n",
    "\n",
    "nbf <- naiveBayes(R ~ A + B + C + D + E,hftrain)"
   ]
  },
  {
   "cell_type": "code",
   "execution_count": 25,
   "id": "7d145c9e",
   "metadata": {},
   "outputs": [],
   "source": [
    "# Make new predictions\n",
    "\n",
    "pf <- predict(nbf, newdata = hftest)"
   ]
  },
  {
   "cell_type": "code",
   "execution_count": 26,
   "id": "21de1e79",
   "metadata": {},
   "outputs": [
    {
     "data": {
      "image/png": "[encoded data removed]",
      "text/plain": [
       "Plot with title \"Histogram of as.numeric(pf)\""
      ]
     },
     "metadata": {},
     "output_type": "display_data"
    }
   ],
   "source": [
    "# Check the results\n",
    "\n",
    "\n",
    "pf <- as.vector(pf)\n",
    "\n",
    "hist(as.numeric(pf))"
   ]
  },
  {
   "cell_type": "code",
   "execution_count": 28,
   "id": "18e4a4e6",
   "metadata": {},
   "outputs": [
    {
     "data": {
      "text/html": [
       "0.548672566371681"
      ],
      "text/latex": [
       "0.548672566371681"
      ],
      "text/markdown": [
       "0.548672566371681"
      ],
      "text/plain": [
       "[1] 0.5486726"
      ]
     },
     "metadata": {},
     "output_type": "display_data"
    }
   ],
   "source": [
    "# Evaluate succesful predictions\n",
    "\n",
    "pvf <- as.vector(pf)\n",
    "rvf <- as.vector(hftest$R)\n",
    "succesf <- length(which(pvf==rvf))\n",
    "totalf <- nrow(hftest)\n",
    "succesf/totalf"
   ]
  },
  {
   "cell_type": "markdown",
   "id": "bd30aa42",
   "metadata": {},
   "source": [
    "## Rebalancing the classes doesn't always improve the model. In this case we don't have enough values so that's why the percentage of success is lower."
   ]
  },
  {
   "cell_type": "code",
   "execution_count": null,
   "id": "8ea4b0df",
   "metadata": {},
   "outputs": [],
   "source": []
  }
 ],
 "metadata": {
  "kernelspec": {
   "display_name": "R",
   "language": "R",
   "name": "ir"
  },
  "language_info": {
   "codemirror_mode": "r",
   "file_extension": ".r",
   "mimetype": "text/x-r-source",
   "name": "R",
   "pygments_lexer": "r",
   "version": "3.6.1"
  },
  "varInspector": {
   "cols": {
    "lenName": 16,
    "lenType": 16,
    "lenVar": 40
   },
   "kernels_config": {
    "python": {
     "delete_cmd_postfix": "",
     "delete_cmd_prefix": "del ",
     "library": "var_list.py",
     "varRefreshCmd": "print(var_dic_list())"
    },
    "r": {
     "delete_cmd_postfix": ") ",
     "delete_cmd_prefix": "rm(",
     "library": "var_list.r",
     "varRefreshCmd": "cat(var_dic_list()) "
    }
   },
   "types_to_exclude": [
    "module",
    "function",
    "builtin_function_or_method",
    "instance",
    "_Feature"
   ],
   "window_display": false
  }
 },
 "nbformat": 4,
 "nbformat_minor": 5
}
