{
 "cells": [
  {
   "cell_type": "code",
   "execution_count": 1,
   "id": "d522766a",
   "metadata": {},
   "outputs": [
    {
     "name": "stderr",
     "output_type": "stream",
     "text": [
      "Warning message:\n",
      "\"package 'e1071' was built under R version 3.6.3\"Warning message:\n",
      "\"package 'rpart' was built under R version 3.6.3\""
     ]
    }
   ],
   "source": [
    "# Load needed libraries\n",
    "\n",
    "library(e1071)\n",
    "library(rpart)"
   ]
  },
  {
   "cell_type": "code",
   "execution_count": 5,
   "id": "505615c0",
   "metadata": {},
   "outputs": [
    {
     "data": {
      "text/html": [
       "<table>\n",
       "<thead><tr><th scope=col>RI</th><th scope=col>Na</th><th scope=col>Mg</th><th scope=col>Al</th><th scope=col>Si</th><th scope=col>K</th><th scope=col>Ca</th><th scope=col>Ba</th><th scope=col>Fe</th><th scope=col>Type</th></tr></thead>\n",
       "<tbody>\n",
       "\t<tr><td>1.52101</td><td>13.64  </td><td>4.49   </td><td>1.10   </td><td>71.78  </td><td>0.06   </td><td>8.75   </td><td>0      </td><td>0.00   </td><td>1      </td></tr>\n",
       "\t<tr><td>1.51761</td><td>13.89  </td><td>3.60   </td><td>1.36   </td><td>72.73  </td><td>0.48   </td><td>7.83   </td><td>0      </td><td>0.00   </td><td>1      </td></tr>\n",
       "\t<tr><td>1.51618</td><td>13.53  </td><td>3.55   </td><td>1.54   </td><td>72.99  </td><td>0.39   </td><td>7.78   </td><td>0      </td><td>0.00   </td><td>1      </td></tr>\n",
       "\t<tr><td>1.51766</td><td>13.21  </td><td>3.69   </td><td>1.29   </td><td>72.61  </td><td>0.57   </td><td>8.22   </td><td>0      </td><td>0.00   </td><td>1      </td></tr>\n",
       "\t<tr><td>1.51742</td><td>13.27  </td><td>3.62   </td><td>1.24   </td><td>73.08  </td><td>0.55   </td><td>8.07   </td><td>0      </td><td>0.00   </td><td>1      </td></tr>\n",
       "\t<tr><td>1.51596</td><td>12.79  </td><td>3.61   </td><td>1.62   </td><td>72.97  </td><td>0.64   </td><td>8.07   </td><td>0      </td><td>0.26   </td><td>1      </td></tr>\n",
       "</tbody>\n",
       "</table>\n"
      ],
      "text/latex": [
       "\\begin{tabular}{r|llllllllll}\n",
       " RI & Na & Mg & Al & Si & K & Ca & Ba & Fe & Type\\\\\n",
       "\\hline\n",
       "\t 1.52101 & 13.64   & 4.49    & 1.10    & 71.78   & 0.06    & 8.75    & 0       & 0.00    & 1      \\\\\n",
       "\t 1.51761 & 13.89   & 3.60    & 1.36    & 72.73   & 0.48    & 7.83    & 0       & 0.00    & 1      \\\\\n",
       "\t 1.51618 & 13.53   & 3.55    & 1.54    & 72.99   & 0.39    & 7.78    & 0       & 0.00    & 1      \\\\\n",
       "\t 1.51766 & 13.21   & 3.69    & 1.29    & 72.61   & 0.57    & 8.22    & 0       & 0.00    & 1      \\\\\n",
       "\t 1.51742 & 13.27   & 3.62    & 1.24    & 73.08   & 0.55    & 8.07    & 0       & 0.00    & 1      \\\\\n",
       "\t 1.51596 & 12.79   & 3.61    & 1.62    & 72.97   & 0.64    & 8.07    & 0       & 0.26    & 1      \\\\\n",
       "\\end{tabular}\n"
      ],
      "text/markdown": [
       "\n",
       "| RI | Na | Mg | Al | Si | K | Ca | Ba | Fe | Type |\n",
       "|---|---|---|---|---|---|---|---|---|---|\n",
       "| 1.52101 | 13.64   | 4.49    | 1.10    | 71.78   | 0.06    | 8.75    | 0       | 0.00    | 1       |\n",
       "| 1.51761 | 13.89   | 3.60    | 1.36    | 72.73   | 0.48    | 7.83    | 0       | 0.00    | 1       |\n",
       "| 1.51618 | 13.53   | 3.55    | 1.54    | 72.99   | 0.39    | 7.78    | 0       | 0.00    | 1       |\n",
       "| 1.51766 | 13.21   | 3.69    | 1.29    | 72.61   | 0.57    | 8.22    | 0       | 0.00    | 1       |\n",
       "| 1.51742 | 13.27   | 3.62    | 1.24    | 73.08   | 0.55    | 8.07    | 0       | 0.00    | 1       |\n",
       "| 1.51596 | 12.79   | 3.61    | 1.62    | 72.97   | 0.64    | 8.07    | 0       | 0.26    | 1       |\n",
       "\n"
      ],
      "text/plain": [
       "  RI      Na    Mg   Al   Si    K    Ca   Ba Fe   Type\n",
       "1 1.52101 13.64 4.49 1.10 71.78 0.06 8.75 0  0.00 1   \n",
       "2 1.51761 13.89 3.60 1.36 72.73 0.48 7.83 0  0.00 1   \n",
       "3 1.51618 13.53 3.55 1.54 72.99 0.39 7.78 0  0.00 1   \n",
       "4 1.51766 13.21 3.69 1.29 72.61 0.57 8.22 0  0.00 1   \n",
       "5 1.51742 13.27 3.62 1.24 73.08 0.55 8.07 0  0.00 1   \n",
       "6 1.51596 12.79 3.61 1.62 72.97 0.64 8.07 0  0.26 1   "
      ]
     },
     "metadata": {},
     "output_type": "display_data"
    }
   ],
   "source": [
    "# Load glass data and inspect\n",
    "\n",
    "data(Glass, package=\"mlbench\")\n",
    "head(Glass)"
   ]
  },
  {
   "cell_type": "code",
   "execution_count": 6,
   "id": "77d46a99",
   "metadata": {},
   "outputs": [
    {
     "name": "stdout",
     "output_type": "stream",
     "text": [
      " Factor w/ 6 levels \"1\",\"2\",\"3\",\"5\",..: 1 1 1 1 1 1 1 1 1 1 ...\n"
     ]
    }
   ],
   "source": [
    "# Checking how many types of glass there are\n",
    "str(Glass$Type)"
   ]
  },
  {
   "cell_type": "code",
   "execution_count": 49,
   "id": "6e2ead2e",
   "metadata": {},
   "outputs": [],
   "source": [
    "# This is the variable we want to predict. Now we separate the data in train and test\n",
    "\n",
    "x <- runif(nrow(Glass))\n",
    "train <- Glass[which(x<0.7),]\n",
    "test <- Glass[which(x>=0.7),]"
   ]
  },
  {
   "cell_type": "code",
   "execution_count": 50,
   "id": "7e4ef239",
   "metadata": {},
   "outputs": [],
   "source": [
    "# We create the model and predict\n",
    "\n",
    "svm.model <- svm(Type~., data = train, cost = 100, gamma = 1)\n",
    "svm.pred <- predict(svm.model,newdata=test)"
   ]
  },
  {
   "cell_type": "code",
   "execution_count": 51,
   "id": "b8bec412",
   "metadata": {},
   "outputs": [],
   "source": [
    "# We also create a random tree model to compare\n",
    "\n",
    "tree.model <- rpart(Type~.,data = train, method='class')\n",
    "tree.pred <- predict(tree.model,newdata=test, type='class')\n"
   ]
  },
  {
   "cell_type": "code",
   "execution_count": 52,
   "id": "893a76f3",
   "metadata": {},
   "outputs": [
    {
     "data": {
      "text/html": [
       "42"
      ],
      "text/latex": [
       "42"
      ],
      "text/markdown": [
       "42"
      ],
      "text/plain": [
       "[1] 42"
      ]
     },
     "metadata": {},
     "output_type": "display_data"
    },
    {
     "data": {
      "text/html": [
       "0.567567567567568"
      ],
      "text/latex": [
       "0.567567567567568"
      ],
      "text/markdown": [
       "0.567567567567568"
      ],
      "text/plain": [
       "[1] 0.5675676"
      ]
     },
     "metadata": {},
     "output_type": "display_data"
    }
   ],
   "source": [
    "# Counting the number of succesful predictions of the svm model\n",
    "\n",
    "length(which(svm.pred == test$Type))\n",
    "length(which(svm.pred == test$Type))/nrow(test)"
   ]
  },
  {
   "cell_type": "code",
   "execution_count": 53,
   "id": "ebc3f282",
   "metadata": {},
   "outputs": [
    {
     "data": {
      "text/html": [
       "47"
      ],
      "text/latex": [
       "47"
      ],
      "text/markdown": [
       "47"
      ],
      "text/plain": [
       "[1] 47"
      ]
     },
     "metadata": {},
     "output_type": "display_data"
    },
    {
     "data": {
      "text/html": [
       "0.635135135135135"
      ],
      "text/latex": [
       "0.635135135135135"
      ],
      "text/markdown": [
       "0.635135135135135"
      ],
      "text/plain": [
       "[1] 0.6351351"
      ]
     },
     "metadata": {},
     "output_type": "display_data"
    }
   ],
   "source": [
    "# Counting the number of succesful predictions of the random forest model\n",
    "\n",
    "length(which(tree.pred == test$Type))\n",
    "length(which(tree.pred == test$Type))/nrow(test)"
   ]
  },
  {
   "cell_type": "code",
   "execution_count": 47,
   "id": "0cb4dbc7",
   "metadata": {},
   "outputs": [],
   "source": [
    "# Creating both confusion matrix\n",
    "\n",
    "m.svm <- matrix(nrow=6,ncol=6,0)\n",
    "m.tree <- matrix(nrow=6,ncol=6,0)\n",
    "\n",
    "for(i in 1:6) {\n",
    "for(j in 1:6) {\n",
    "m.svm[i,j] <- length(which(svm.pred == i & test$Type == j))\n",
    "m.tree[i,j] <- length(which(tree.pred == i & test$Type ==j))\n",
    "}\n",
    "}"
   ]
  },
  {
   "cell_type": "code",
   "execution_count": 48,
   "id": "4f071c24",
   "metadata": {},
   "outputs": [
    {
     "data": {
      "text/html": [
       "<table>\n",
       "<tbody>\n",
       "\t<tr><td>12</td><td> 3</td><td>2 </td><td>0 </td><td>0 </td><td>1 </td></tr>\n",
       "\t<tr><td> 4</td><td>18</td><td>2 </td><td>0 </td><td>3 </td><td>3 </td></tr>\n",
       "\t<tr><td> 0</td><td> 0</td><td>2 </td><td>0 </td><td>0 </td><td>0 </td></tr>\n",
       "\t<tr><td> 0</td><td> 0</td><td>0 </td><td>0 </td><td>0 </td><td>0 </td></tr>\n",
       "\t<tr><td> 0</td><td> 0</td><td>0 </td><td>0 </td><td>1 </td><td>0 </td></tr>\n",
       "\t<tr><td> 0</td><td> 0</td><td>0 </td><td>0 </td><td>0 </td><td>0 </td></tr>\n",
       "</tbody>\n",
       "</table>\n"
      ],
      "text/latex": [
       "\\begin{tabular}{llllll}\n",
       "\t 12 &  3 & 2  & 0  & 0  & 1 \\\\\n",
       "\t  4 & 18 & 2  & 0  & 3  & 3 \\\\\n",
       "\t  0 &  0 & 2  & 0  & 0  & 0 \\\\\n",
       "\t  0 &  0 & 0  & 0  & 0  & 0 \\\\\n",
       "\t  0 &  0 & 0  & 0  & 1  & 0 \\\\\n",
       "\t  0 &  0 & 0  & 0  & 0  & 0 \\\\\n",
       "\\end{tabular}\n"
      ],
      "text/markdown": [
       "\n",
       "| 12 |  3 | 2  | 0  | 0  | 1  |\n",
       "|  4 | 18 | 2  | 0  | 3  | 3  |\n",
       "|  0 |  0 | 2  | 0  | 0  | 0  |\n",
       "|  0 |  0 | 0  | 0  | 0  | 0  |\n",
       "|  0 |  0 | 0  | 0  | 1  | 0  |\n",
       "|  0 |  0 | 0  | 0  | 0  | 0  |\n",
       "\n"
      ],
      "text/plain": [
       "     [,1] [,2] [,3] [,4] [,5] [,6]\n",
       "[1,] 12    3   2    0    0    1   \n",
       "[2,]  4   18   2    0    3    3   \n",
       "[3,]  0    0   2    0    0    0   \n",
       "[4,]  0    0   0    0    0    0   \n",
       "[5,]  0    0   0    0    1    0   \n",
       "[6,]  0    0   0    0    0    0   "
      ]
     },
     "metadata": {},
     "output_type": "display_data"
    }
   ],
   "source": [
    "m.svm"
   ]
  },
  {
   "cell_type": "code",
   "execution_count": 41,
   "id": "ae27bf46",
   "metadata": {},
   "outputs": [
    {
     "data": {
      "text/html": [
       "<table>\n",
       "<tbody>\n",
       "\t<tr><td>23</td><td>13</td><td>2 </td><td>0 </td><td>0 </td><td>0 </td></tr>\n",
       "\t<tr><td> 3</td><td>10</td><td>0 </td><td>0 </td><td>0 </td><td>0 </td></tr>\n",
       "\t<tr><td> 1</td><td> 2</td><td>2 </td><td>0 </td><td>0 </td><td>0 </td></tr>\n",
       "\t<tr><td> 0</td><td> 0</td><td>0 </td><td>0 </td><td>0 </td><td>0 </td></tr>\n",
       "\t<tr><td> 0</td><td> 3</td><td>0 </td><td>0 </td><td>1 </td><td>0 </td></tr>\n",
       "\t<tr><td> 0</td><td> 1</td><td>0 </td><td>0 </td><td>0 </td><td>2 </td></tr>\n",
       "</tbody>\n",
       "</table>\n"
      ],
      "text/latex": [
       "\\begin{tabular}{llllll}\n",
       "\t 23 & 13 & 2  & 0  & 0  & 0 \\\\\n",
       "\t  3 & 10 & 0  & 0  & 0  & 0 \\\\\n",
       "\t  1 &  2 & 2  & 0  & 0  & 0 \\\\\n",
       "\t  0 &  0 & 0  & 0  & 0  & 0 \\\\\n",
       "\t  0 &  3 & 0  & 0  & 1  & 0 \\\\\n",
       "\t  0 &  1 & 0  & 0  & 0  & 2 \\\\\n",
       "\\end{tabular}\n"
      ],
      "text/markdown": [
       "\n",
       "| 23 | 13 | 2  | 0  | 0  | 0  |\n",
       "|  3 | 10 | 0  | 0  | 0  | 0  |\n",
       "|  1 |  2 | 2  | 0  | 0  | 0  |\n",
       "|  0 |  0 | 0  | 0  | 0  | 0  |\n",
       "|  0 |  3 | 0  | 0  | 1  | 0  |\n",
       "|  0 |  1 | 0  | 0  | 0  | 2  |\n",
       "\n"
      ],
      "text/plain": [
       "     [,1] [,2] [,3] [,4] [,5] [,6]\n",
       "[1,] 23   13   2    0    0    0   \n",
       "[2,]  3   10   0    0    0    0   \n",
       "[3,]  1    2   2    0    0    0   \n",
       "[4,]  0    0   0    0    0    0   \n",
       "[5,]  0    3   0    0    1    0   \n",
       "[6,]  0    1   0    0    0    2   "
      ]
     },
     "metadata": {},
     "output_type": "display_data"
    }
   ],
   "source": [
    "m.tree"
   ]
  },
  {
   "cell_type": "code",
   "execution_count": 54,
   "id": "a7267719",
   "metadata": {},
   "outputs": [],
   "source": [
    "# In both confusion matrix it is easy to see that we have more successful predictions where we have more values.\n",
    "# This is inherent to any model, as it is best trained with more data."
   ]
  },
  {
   "cell_type": "code",
   "execution_count": null,
   "id": "09743fc2",
   "metadata": {},
   "outputs": [],
   "source": []
  }
 ],
 "metadata": {
  "kernelspec": {
   "display_name": "R",
   "language": "R",
   "name": "ir"
  },
  "language_info": {
   "codemirror_mode": "r",
   "file_extension": ".r",
   "mimetype": "text/x-r-source",
   "name": "R",
   "pygments_lexer": "r",
   "version": "3.6.1"
  },
  "varInspector": {
   "cols": {
    "lenName": 16,
    "lenType": 16,
    "lenVar": 40
   },
   "kernels_config": {
    "python": {
     "delete_cmd_postfix": "",
     "delete_cmd_prefix": "del ",
     "library": "var_list.py",
     "varRefreshCmd": "print(var_dic_list())"
    },
    "r": {
     "delete_cmd_postfix": ") ",
     "delete_cmd_prefix": "rm(",
     "library": "var_list.r",
     "varRefreshCmd": "cat(var_dic_list()) "
    }
   },
   "types_to_exclude": [
    "module",
    "function",
    "builtin_function_or_method",
    "instance",
    "_Feature"
   ],
   "window_display": false
  }
 },
 "nbformat": 4,
 "nbformat_minor": 5
}
