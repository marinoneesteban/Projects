{
 "cells": [
  {
   "cell_type": "markdown",
   "id": "58d9365b",
   "metadata": {},
   "source": [
    "## Building a neural network to predict the energy production of a solar system.\n",
    "### *The data corresponds to a 1MW solar system installed in the parking lot of a spanish university."
   ]
  },
  {
   "cell_type": "code",
   "execution_count": 1,
   "id": "1278c7c8",
   "metadata": {},
   "outputs": [
    {
     "name": "stderr",
     "output_type": "stream",
     "text": [
      "Warning message:\n",
      "\"package 'neuralnet' was built under R version 3.6.3\"Warning message:\n",
      "\"package 'NeuralNetTools' was built under R version 3.6.3\"Warning message:\n",
      "\"package 'readxl' was built under R version 3.6.3\""
     ]
    }
   ],
   "source": [
    "#import libraries\n",
    "library(neuralnet)\n",
    "library(NeuralNetTools)\n",
    "library(readxl)\n"
   ]
  },
  {
   "cell_type": "code",
   "execution_count": 2,
   "id": "dd7efdbc",
   "metadata": {
    "scrolled": true
   },
   "outputs": [
    {
     "data": {
      "text/html": [
       "<table>\n",
       "<thead><tr><th scope=col>rad</th><th scope=col>ta</th><th scope=col>tm</th><th scope=col>prod</th></tr></thead>\n",
       "<tbody>\n",
       "\t<tr><td> 50.00  </td><td>11      </td><td> 9.00   </td><td> 8403.29</td></tr>\n",
       "\t<tr><td> 15.00  </td><td>11      </td><td> 9.00   </td><td> 1751.71</td></tr>\n",
       "\t<tr><td>114.28  </td><td>12      </td><td>11.01   </td><td>20094.24</td></tr>\n",
       "\t<tr><td> 66.00  </td><td>12      </td><td>13.00   </td><td>12228.32</td></tr>\n",
       "\t<tr><td> 36.97  </td><td>12      </td><td>13.00   </td><td> 6939.26</td></tr>\n",
       "\t<tr><td> 33.92  </td><td>12      </td><td>11.01   </td><td> 6277.08</td></tr>\n",
       "</tbody>\n",
       "</table>\n"
      ],
      "text/latex": [
       "\\begin{tabular}{r|llll}\n",
       " rad & ta & tm & prod\\\\\n",
       "\\hline\n",
       "\t  50.00   & 11       &  9.00    &  8403.29\\\\\n",
       "\t  15.00   & 11       &  9.00    &  1751.71\\\\\n",
       "\t 114.28   & 12       & 11.01    & 20094.24\\\\\n",
       "\t  66.00   & 12       & 13.00    & 12228.32\\\\\n",
       "\t  36.97   & 12       & 13.00    &  6939.26\\\\\n",
       "\t  33.92   & 12       & 11.01    &  6277.08\\\\\n",
       "\\end{tabular}\n"
      ],
      "text/markdown": [
       "\n",
       "| rad | ta | tm | prod |\n",
       "|---|---|---|---|\n",
       "|  50.00   | 11       |  9.00    |  8403.29 |\n",
       "|  15.00   | 11       |  9.00    |  1751.71 |\n",
       "| 114.28   | 12       | 11.01    | 20094.24 |\n",
       "|  66.00   | 12       | 13.00    | 12228.32 |\n",
       "|  36.97   | 12       | 13.00    |  6939.26 |\n",
       "|  33.92   | 12       | 11.01    |  6277.08 |\n",
       "\n"
      ],
      "text/plain": [
       "  rad    ta tm    prod    \n",
       "1  50.00 11  9.00  8403.29\n",
       "2  15.00 11  9.00  1751.71\n",
       "3 114.28 12 11.01 20094.24\n",
       "4  66.00 12 13.00 12228.32\n",
       "5  36.97 12 13.00  6939.26\n",
       "6  33.92 12 11.01  6277.08"
      ]
     },
     "metadata": {},
     "output_type": "display_data"
    }
   ],
   "source": [
    "# read dataset\n",
    "df <- read_excel(\"libro3.xlsx\")\n",
    "head(df)\n",
    "\n",
    "# Rad = Radiation (W/m2)\n",
    "# ta = Ambient Temperature (ºC)\n",
    "# tm = Module Temperature\n",
    "# prod = Production Wh\n"
   ]
  },
  {
   "cell_type": "code",
   "execution_count": null,
   "id": "5df1d930",
   "metadata": {},
   "outputs": [],
   "source": [
    "scaleddf<-scale(df[1:3])\n",
    "scaleddf<-cbind(scaleddf,df$prod)\n",
    "colnames(scaleddf)<-c( 'rad','ta','tm','prod')\n",
    "head(scaleddf,3)\n"
   ]
  },
  {
   "cell_type": "code",
   "execution_count": 9,
   "id": "4b67a8df",
   "metadata": {},
   "outputs": [
    {
     "data": {
      "text/html": [
       "<table>\n",
       "<thead><tr><th scope=col>rad</th><th scope=col>ta</th><th scope=col>tm</th><th scope=col>prod</th></tr></thead>\n",
       "<tbody>\n",
       "\t<tr><td>-1.1614626</td><td>-2.724261 </td><td>-2.055514 </td><td>-1.206450 </td></tr>\n",
       "\t<tr><td>-1.2652832</td><td>-2.724261 </td><td>-2.055514 </td><td>-1.305040 </td></tr>\n",
       "\t<tr><td>-0.9707887</td><td>-2.455880 </td><td>-1.855603 </td><td>-1.033167 </td></tr>\n",
       "\t<tr><td>-1.1140018</td><td>-2.455880 </td><td>-1.657680 </td><td>-1.149756 </td></tr>\n",
       "\t<tr><td>-1.2001135</td><td>-2.455880 </td><td>-1.657680 </td><td>-1.228150 </td></tr>\n",
       "\t<tr><td>-1.2091607</td><td>-2.455880 </td><td>-1.855603 </td><td>-1.237965 </td></tr>\n",
       "</tbody>\n",
       "</table>\n"
      ],
      "text/latex": [
       "\\begin{tabular}{r|llll}\n",
       " rad & ta & tm & prod\\\\\n",
       "\\hline\n",
       "\t -1.1614626 & -2.724261  & -2.055514  & -1.206450 \\\\\n",
       "\t -1.2652832 & -2.724261  & -2.055514  & -1.305040 \\\\\n",
       "\t -0.9707887 & -2.455880  & -1.855603  & -1.033167 \\\\\n",
       "\t -1.1140018 & -2.455880  & -1.657680  & -1.149756 \\\\\n",
       "\t -1.2001135 & -2.455880  & -1.657680  & -1.228150 \\\\\n",
       "\t -1.2091607 & -2.455880  & -1.855603  & -1.237965 \\\\\n",
       "\\end{tabular}\n"
      ],
      "text/markdown": [
       "\n",
       "| rad | ta | tm | prod |\n",
       "|---|---|---|---|\n",
       "| -1.1614626 | -2.724261  | -2.055514  | -1.206450  |\n",
       "| -1.2652832 | -2.724261  | -2.055514  | -1.305040  |\n",
       "| -0.9707887 | -2.455880  | -1.855603  | -1.033167  |\n",
       "| -1.1140018 | -2.455880  | -1.657680  | -1.149756  |\n",
       "| -1.2001135 | -2.455880  | -1.657680  | -1.228150  |\n",
       "| -1.2091607 | -2.455880  | -1.855603  | -1.237965  |\n",
       "\n"
      ],
      "text/plain": [
       "  rad        ta        tm        prod     \n",
       "1 -1.1614626 -2.724261 -2.055514 -1.206450\n",
       "2 -1.2652832 -2.724261 -2.055514 -1.305040\n",
       "3 -0.9707887 -2.455880 -1.855603 -1.033167\n",
       "4 -1.1140018 -2.455880 -1.657680 -1.149756\n",
       "5 -1.2001135 -2.455880 -1.657680 -1.228150\n",
       "6 -1.2091607 -2.455880 -1.855603 -1.237965"
      ]
     },
     "metadata": {},
     "output_type": "display_data"
    }
   ],
   "source": [
    "# Create a function for normalizing the data\n",
    "\n",
    "normalize <- function(x) {\n",
    "    return ((x - mean(x)) / sd(x))\n",
    "}\n",
    "norm_df <- as.data.frame(lapply(df,normalize))\n",
    "\n",
    "# Take a look at the normalized dataframe\n",
    "head(norm_df)"
   ]
  },
  {
   "cell_type": "code",
   "execution_count": null,
   "id": "9eed9e62",
   "metadata": {},
   "outputs": [],
   "source": [
    "# Split the data in train and test sets\n",
    "\n",
    "x<-runif(nrow(norm_df))\n",
    "df_train<-norm_df[which(x<.7),]\n",
    "df_test<-norm_df[which(x>=.7),]"
   ]
  },
  {
   "cell_type": "code",
   "execution_count": 16,
   "id": "5b5f0da6",
   "metadata": {},
   "outputs": [
    {
     "data": {
      "text/html": [
       "1703"
      ],
      "text/latex": [
       "1703"
      ],
      "text/markdown": [
       "1703"
      ],
      "text/plain": [
       "[1] 1703"
      ]
     },
     "metadata": {},
     "output_type": "display_data"
    },
    {
     "data": {
      "text/html": [
       "705"
      ],
      "text/latex": [
       "705"
      ],
      "text/markdown": [
       "705"
      ],
      "text/plain": [
       "[1] 705"
      ]
     },
     "metadata": {},
     "output_type": "display_data"
    }
   ],
   "source": [
    "# Check the number of values in each df\n",
    "nrow(df_train)\n",
    "nrow(df_test)"
   ]
  },
  {
   "cell_type": "code",
   "execution_count": 17,
   "id": "2ef3cc1c",
   "metadata": {},
   "outputs": [],
   "source": [
    "# Introduce the formula. First indicate the variable that it's going to be predicted and\n",
    "# then the attributes that are used for it. \n",
    "f<-'prod~rad+ta+tm'"
   ]
  },
  {
   "cell_type": "code",
   "execution_count": 18,
   "id": "7ba7d78d",
   "metadata": {},
   "outputs": [
    {
     "data": {
      "image/png": "[encoded data removed]",
      "text/plain": [
       "plot without title"
      ]
     },
     "metadata": {},
     "output_type": "display_data"
    }
   ],
   "source": [
    "# Using the neuralnet function we build a net of two hidden layers, first one with two neurons and second one with one.\n",
    "# This model is trained with df_train\n",
    "nn<-neuralnet(formula=f,data=df_train,stepmax=1e7,threshold = .1, hidden = c(2,1), rep = 10)\n",
    "\n",
    "# Plot the net to check the weights used. If rep='best' the repetition with the smallest error will be plotted.\n",
    "plot(nn, rep = \"best\")"
   ]
  },
  {
   "cell_type": "code",
   "execution_count": 20,
   "id": "affdf1fb",
   "metadata": {},
   "outputs": [
    {
     "data": {
      "text/html": [
       "<table>\n",
       "<thead><tr><th></th><th scope=col>actual</th><th scope=col>prediction</th></tr></thead>\n",
       "<tbody>\n",
       "\t<tr><th scope=row>2</th><td>-1.3050396</td><td>-1.3043782</td></tr>\n",
       "\t<tr><th scope=row>4</th><td>-1.1497556</td><td>-1.1619946</td></tr>\n",
       "\t<tr><th scope=row>6</th><td>-1.2379647</td><td>-1.2507687</td></tr>\n",
       "\t<tr><th scope=row>18</th><td>-0.8205346</td><td>-0.8121285</td></tr>\n",
       "\t<tr><th scope=row>21</th><td>-1.1554087</td><td>-1.1272764</td></tr>\n",
       "\t<tr><th scope=row>23</th><td>-1.1747201</td><td>-1.2001656</td></tr>\n",
       "</tbody>\n",
       "</table>\n"
      ],
      "text/latex": [
       "\\begin{tabular}{r|ll}\n",
       "  & actual & prediction\\\\\n",
       "\\hline\n",
       "\t2 & -1.3050396 & -1.3043782\\\\\n",
       "\t4 & -1.1497556 & -1.1619946\\\\\n",
       "\t6 & -1.2379647 & -1.2507687\\\\\n",
       "\t18 & -0.8205346 & -0.8121285\\\\\n",
       "\t21 & -1.1554087 & -1.1272764\\\\\n",
       "\t23 & -1.1747201 & -1.2001656\\\\\n",
       "\\end{tabular}\n"
      ],
      "text/markdown": [
       "\n",
       "| <!--/--> | actual | prediction |\n",
       "|---|---|---|\n",
       "| 2 | -1.3050396 | -1.3043782 |\n",
       "| 4 | -1.1497556 | -1.1619946 |\n",
       "| 6 | -1.2379647 | -1.2507687 |\n",
       "| 18 | -0.8205346 | -0.8121285 |\n",
       "| 21 | -1.1554087 | -1.1272764 |\n",
       "| 23 | -1.1747201 | -1.2001656 |\n",
       "\n"
      ],
      "text/plain": [
       "   actual     prediction\n",
       "2  -1.3050396 -1.3043782\n",
       "4  -1.1497556 -1.1619946\n",
       "6  -1.2379647 -1.2507687\n",
       "18 -0.8205346 -0.8121285\n",
       "21 -1.1554087 -1.1272764\n",
       "23 -1.1747201 -1.2001656"
      ]
     },
     "metadata": {},
     "output_type": "display_data"
    },
    {
     "data": {
      "text/html": [
       "705"
      ],
      "text/latex": [
       "705"
      ],
      "text/markdown": [
       "705"
      ],
      "text/plain": [
       "[1] 705"
      ]
     },
     "metadata": {},
     "output_type": "display_data"
    }
   ],
   "source": [
    "# Now the model is tested using the compute method and df_test values\n",
    "nn.results <- compute(nn, df_test)\n",
    "df_test<-data.frame(df_test)\n",
    "results <- data.frame(actual = df_test$prod, prediction = nn.results$net.result)\n",
    "head(results)"
   ]
  },
  {
   "cell_type": "code",
   "execution_count": 21,
   "id": "abb980d2",
   "metadata": {},
   "outputs": [
    {
     "data": {
      "text/html": [
       "<table>\n",
       "<thead><tr><th scope=col>actual</th><th scope=col>prediction</th></tr></thead>\n",
       "<tbody>\n",
       "\t<tr><td> 1751.71 </td><td> 1796.332</td></tr>\n",
       "\t<tr><td>12228.32 </td><td>11402.586</td></tr>\n",
       "\t<tr><td> 6277.08 </td><td> 5413.222</td></tr>\n",
       "\t<tr><td>34440.01 </td><td>35007.151</td></tr>\n",
       "\t<tr><td>11846.92 </td><td>13744.931</td></tr>\n",
       "\t<tr><td>10544.03 </td><td> 8827.285</td></tr>\n",
       "</tbody>\n",
       "</table>\n"
      ],
      "text/latex": [
       "\\begin{tabular}{r|ll}\n",
       " actual & prediction\\\\\n",
       "\\hline\n",
       "\t  1751.71  &  1796.332\\\\\n",
       "\t 12228.32  & 11402.586\\\\\n",
       "\t  6277.08  &  5413.222\\\\\n",
       "\t 34440.01  & 35007.151\\\\\n",
       "\t 11846.92  & 13744.931\\\\\n",
       "\t 10544.03  &  8827.285\\\\\n",
       "\\end{tabular}\n"
      ],
      "text/markdown": [
       "\n",
       "| actual | prediction |\n",
       "|---|---|\n",
       "|  1751.71  |  1796.332 |\n",
       "| 12228.32  | 11402.586 |\n",
       "|  6277.08  |  5413.222 |\n",
       "| 34440.01  | 35007.151 |\n",
       "| 11846.92  | 13744.931 |\n",
       "| 10544.03  |  8827.285 |\n",
       "\n"
      ],
      "text/plain": [
       "  actual   prediction\n",
       "1  1751.71  1796.332 \n",
       "2 12228.32 11402.586 \n",
       "3  6277.08  5413.222 \n",
       "4 34440.01 35007.151 \n",
       "5 11846.92 13744.931 \n",
       "6 10544.03  8827.285 "
      ]
     },
     "metadata": {},
     "output_type": "display_data"
    }
   ],
   "source": [
    "# Create a function to denormalize the results\n",
    "\n",
    "denormalize<-function(x){\n",
    "    media=mean(df$prod)\n",
    "    desv=sd(df$prod)\n",
    "    return (x*desv+media)\n",
    "}\n",
    "\n",
    "results2 <-as.data.frame(lapply(results,denormalize))\n",
    "head(results2)"
   ]
  },
  {
   "cell_type": "code",
   "execution_count": 23,
   "id": "e3d36817",
   "metadata": {},
   "outputs": [
    {
     "name": "stdout",
     "output_type": "stream",
     "text": [
      "[1] \"-0.1222 %\"\n"
     ]
    }
   ],
   "source": [
    "# Create a function to calculate the normalized mean squared error of the neuralnet\n",
    "\n",
    "nmae <- function (x){\n",
    "    e =((sum(x[1]-x[2])/nrow(x))*(1/mean(x[,1])))*100\n",
    "    e=round(e,4)\n",
    "    e=paste(e, \"%\", sep=\" \")\n",
    "    print(e)\n",
    "    }\n",
    "\n",
    "nmae(results2)"
   ]
  },
  {
   "cell_type": "code",
   "execution_count": 34,
   "id": "8f9df759",
   "metadata": {},
   "outputs": [],
   "source": [
    "# R^2 calculation\n",
    "rsq <- function (x, y) cor(x, y) ^ 2 \n",
    "r2 <-rsq(results2$actual,results2$prediction)"
   ]
  },
  {
   "cell_type": "code",
   "execution_count": 39,
   "id": "e18b98a6",
   "metadata": {},
   "outputs": [
    {
     "data": {
      "image/png": "[encoded data removed]",
      "text/plain": [
       "Plot with title \"Energy production Observed vs Predicted values\""
      ]
     },
     "metadata": {},
     "output_type": "display_data"
    }
   ],
   "source": [
    "# Plotting the results\n",
    "\n",
    "plot(results2$actual,                                # Draw plot using Base R\n",
    "     results2$prediction,\n",
    "     main = 'Energy production Observed vs Predicted values',\n",
    "     xlab = \"Predicted Values\",\n",
    "     ylab = \"Observed Values\")\n",
    "\n",
    "abline(a = 0,                                        # Add straight line\n",
    "       b = 1,\n",
    "       col = \"red\",\n",
    "       lwd = 2)\n",
    "\n",
    "mylabel = bquote(italic(R)^2 == .(format(r2, digits = 3)))\n",
    "text(x = 10000, y = 200000, labels = mylabel)"
   ]
  },
  {
   "cell_type": "markdown",
   "id": "226d0038",
   "metadata": {},
   "source": [
    "## Conclusion: a simple neuralnet was created to predict energy production values. A normalized mean squared error of -0.122% was achieved. With this method one can try which architecthure of the neuralnet gives better results."
   ]
  }
 ],
 "metadata": {
  "kernelspec": {
   "display_name": "R",
   "language": "R",
   "name": "ir"
  },
  "language_info": {
   "codemirror_mode": "r",
   "file_extension": ".r",
   "mimetype": "text/x-r-source",
   "name": "R",
   "pygments_lexer": "r",
   "version": "3.6.1"
  },
  "varInspector": {
   "cols": {
    "lenName": 16,
    "lenType": 16,
    "lenVar": 40
   },
   "kernels_config": {
    "python": {
     "delete_cmd_postfix": "",
     "delete_cmd_prefix": "del ",
     "library": "var_list.py",
     "varRefreshCmd": "print(var_dic_list())"
    },
    "r": {
     "delete_cmd_postfix": ") ",
     "delete_cmd_prefix": "rm(",
     "library": "var_list.r",
     "varRefreshCmd": "cat(var_dic_list()) "
    }
   },
   "types_to_exclude": [
    "module",
    "function",
    "builtin_function_or_method",
    "instance",
    "_Feature"
   ],
   "window_display": false
  }
 },
 "nbformat": 4,
 "nbformat_minor": 5
}
