{
 "cells": [
  {
   "cell_type": "code",
   "execution_count": 51,
   "id": "38e98c7d",
   "metadata": {},
   "outputs": [
    {
     "data": {
      "text/plain": [
       "       X                A                  B                  C            \n",
       " Min.   :   1.0   Min.   :0.001312   Min.   :0.004877   Min.   :0.0003158  \n",
       " 1st Qu.: 250.8   1st Qu.:0.262453   1st Qu.:0.242199   1st Qu.:0.2201134  \n",
       " Median : 500.5   Median :0.500340   Median :0.482907   Median :0.4776410  \n",
       " Mean   : 500.5   Mean   :0.501791   Mean   :0.490734   Mean   :0.4871791  \n",
       " 3rd Qu.: 750.2   3rd Qu.:0.741428   3rd Qu.:0.750363   3rd Qu.:0.7600665  \n",
       " Max.   :1000.0   Max.   :0.998609   Max.   :0.998830   Max.   :0.9965820  \n",
       "       D                   E                  R        \n",
       " Min.   :0.0009639   Min.   :0.000282   Min.   :0.000  \n",
       " 1st Qu.:0.2344054   1st Qu.:0.262639   1st Qu.:1.000  \n",
       " Median :0.5001730   Median :0.509958   Median :1.000  \n",
       " Mean   :0.4978276   Mean   :0.513217   Mean   :1.363  \n",
       " 3rd Qu.:0.7582356   3rd Qu.:0.767861   3rd Qu.:2.000  \n",
       " Max.   :0.9999384   Max.   :0.999214   Max.   :4.000  "
      ]
     },
     "metadata": {},
     "output_type": "display_data"
    }
   ],
   "source": [
    "# Import data and inspect \n",
    "h<-read.csv(\"NoCategoricos5.csv\",sep=\";\")\n",
    "summary(h)\n",
    "\n",
    "# It is observed that there 1000 values with 5 non-categorical variables and a target of 5 possible outcomes (0,1,2,3,4)\n"
   ]
  },
  {
   "cell_type": "code",
   "execution_count": 52,
   "id": "d6c228a9",
   "metadata": {},
   "outputs": [],
   "source": [
    "# Create an empty vector of random numbers of the same length of the dataset\n",
    "x <- runif(nrow(h))"
   ]
  },
  {
   "cell_type": "code",
   "execution_count": 53,
   "id": "f5c02a00",
   "metadata": {},
   "outputs": [],
   "source": [
    "# Split data to create 3 random trees using the bootstrap technique\n",
    "\n",
    "h1 <- h[which(x<1/3.),]\n",
    "h2 <- h[which(x>=1/3. & x<2/3.),]\n",
    "h3 <- h[which(x>=2/3.) ,]\n",
    "\n",
    "hTrainAB <- rbind(h1,h2)\n",
    "hTestAB <- h3\n",
    "\n",
    "hTrainAC <- rbind(h1,h3)\n",
    "hTestAC <- h2\n",
    "\n",
    "hTrainBC <- rbind(h2,h3)\n",
    "hTestBC <- h1"
   ]
  },
  {
   "cell_type": "code",
   "execution_count": 54,
   "id": "b017c71a",
   "metadata": {},
   "outputs": [],
   "source": [
    "# Create different trees and predict\n",
    "\n",
    "library(rpart)\n",
    "\n",
    "tAB <- rpart(data = hTrainAB, formula = R ~ A + B + C + D + E)\n",
    "tBC <- rpart(data = hTrainBC, formula = R ~ A + B + C + D + E)\n",
    "tAC <- rpart(data = hTrainAC, formula = R ~ A + B + C + D + E)\n",
    "\n",
    "pAB <- predict(tAB, newdata = hTestAB)\n",
    "pBC <- predict(tBC, newdata = hTestBC)\n",
    "pAC <- predict(tAC, newdata = hTestAC)"
   ]
  },
  {
   "cell_type": "code",
   "execution_count": 55,
   "id": "d394c3fe",
   "metadata": {},
   "outputs": [],
   "source": [
    "# Calculate each error with the respective dataset\n",
    "errAB <- sum((as.vector(pAB)-hTestAB$R)^2)/nrow(hTestAB)\n",
    "errBC <- sum((as.vector(pBC)-hTestBC$R)^2)/nrow(hTestBC)\n",
    "errAC <- sum((as.vector(pAC)-hTestAC$R)^2)/nrow(hTestAC)"
   ]
  },
  {
   "cell_type": "code",
   "execution_count": 56,
   "id": "2f51073c",
   "metadata": {},
   "outputs": [
    {
     "data": {
      "text/html": [
       "0.737"
      ],
      "text/latex": [
       "0.737"
      ],
      "text/markdown": [
       "0.737"
      ],
      "text/plain": [
       "[1] 0.737"
      ]
     },
     "metadata": {},
     "output_type": "display_data"
    }
   ],
   "source": [
    "# Calculate the overall error using the whole dataset (h)\n",
    "p1 <- as.vector(predict(tAB, newdata = h))\n",
    "p2 <- as.vector(predict(tBC, newdata = h))\n",
    "p3 <- as.vector(predict(tAC, newdata = h))\n",
    "\n",
    "p <- (p1/errAB+p2/errBC+p3/errAC)/(1/errAB+1/errBC+1/errAC)\n",
    "\n",
    "p <- floor(p+.5)\n",
    "\n",
    "length(which(p==h$R))/nrow(h)\n",
    "\n",
    "# 76%"
   ]
  },
  {
   "cell_type": "code",
   "execution_count": 57,
   "id": "55cb70b8",
   "metadata": {},
   "outputs": [
    {
     "data": {
      "text/html": [
       "0.661016949152542"
      ],
      "text/latex": [
       "0.661016949152542"
      ],
      "text/markdown": [
       "0.661016949152542"
      ],
      "text/plain": [
       "[1] 0.6610169"
      ]
     },
     "metadata": {},
     "output_type": "display_data"
    },
    {
     "data": {
      "text/html": [
       "0.642441860465116"
      ],
      "text/latex": [
       "0.642441860465116"
      ],
      "text/markdown": [
       "0.642441860465116"
      ],
      "text/plain": [
       "[1] 0.6424419"
      ]
     },
     "metadata": {},
     "output_type": "display_data"
    },
    {
     "data": {
      "text/html": [
       "0.658940397350993"
      ],
      "text/latex": [
       "0.658940397350993"
      ],
      "text/markdown": [
       "0.658940397350993"
      ],
      "text/plain": [
       "[1] 0.6589404"
      ]
     },
     "metadata": {},
     "output_type": "display_data"
    }
   ],
   "source": [
    "# Calculte each error by itself\n",
    "pAB <- floor(pAB+.5)\n",
    "pBC <- floor(pBC+.5)\n",
    "pAC <- floor(pAC+.5)\n",
    "\n",
    "length(which(pAB==hTestAB$R))/nrow(hTestAB)\n",
    "length(which(pBC==hTestBC$R))/nrow(hTestBC)\n",
    "length(which(pAC==hTestAC$R))/nrow(hTestAC)\n",
    "\n",
    "# Between 63 and 70% of successful predictions"
   ]
  },
  {
   "cell_type": "code",
   "execution_count": 58,
   "id": "c6dcbdef",
   "metadata": {},
   "outputs": [
    {
     "data": {
      "text/html": [
       "0.775"
      ],
      "text/latex": [
       "0.775"
      ],
      "text/markdown": [
       "0.775"
      ],
      "text/plain": [
       "[1] 0.775"
      ]
     },
     "metadata": {},
     "output_type": "display_data"
    }
   ],
   "source": [
    "# Using bagging method included in the ipred library\n",
    "\n",
    "library(ipred)\n",
    "mb <- bagging(R ~ A + B + C + D + E, data=h, coob=TRUE)\n",
    "pb <- predict(mb,newdata=h)\n",
    "pb <- floor(.5+pb)\n",
    "length(which(pb==h$R))/nrow(h) \n",
    "\n",
    "# 78.1% "
   ]
  },
  {
   "cell_type": "code",
   "execution_count": 59,
   "id": "b0ee47be",
   "metadata": {},
   "outputs": [
    {
     "name": "stderr",
     "output_type": "stream",
     "text": [
      "Warning message in randomForest.default(m, y, ...):\n",
      "\"The response has five or fewer unique values.  Are you sure you want to do regression?\""
     ]
    },
    {
     "data": {
      "text/html": [
       "0.948"
      ],
      "text/latex": [
       "0.948"
      ],
      "text/markdown": [
       "0.948"
      ],
      "text/plain": [
       "[1] 0.948"
      ]
     },
     "metadata": {},
     "output_type": "display_data"
    }
   ],
   "source": [
    "# Trying with Random Forest\n",
    "\n",
    "library(randomForest)\n",
    "\n",
    "rf <- randomForest(formula = R ~ A + B + C + D + E, data = h)\n",
    "\n",
    "prf <- predict(rf, newdata=h)\n",
    "prf <- floor(0.5+prf)\n",
    "\n",
    "length(which(prf == h$R))/nrow(h)\n",
    "\n",
    "## 95%, best model of the series"
   ]
  },
  {
   "cell_type": "code",
   "execution_count": null,
   "id": "0c0c42c0",
   "metadata": {},
   "outputs": [],
   "source": []
  }
 ],
 "metadata": {
  "kernelspec": {
   "display_name": "R",
   "language": "R",
   "name": "ir"
  },
  "language_info": {
   "codemirror_mode": "r",
   "file_extension": ".r",
   "mimetype": "text/x-r-source",
   "name": "R",
   "pygments_lexer": "r",
   "version": "3.6.1"
  },
  "varInspector": {
   "cols": {
    "lenName": 16,
    "lenType": 16,
    "lenVar": 40
   },
   "kernels_config": {
    "python": {
     "delete_cmd_postfix": "",
     "delete_cmd_prefix": "del ",
     "library": "var_list.py",
     "varRefreshCmd": "print(var_dic_list())"
    },
    "r": {
     "delete_cmd_postfix": ") ",
     "delete_cmd_prefix": "rm(",
     "library": "var_list.r",
     "varRefreshCmd": "cat(var_dic_list()) "
    }
   },
   "types_to_exclude": [
    "module",
    "function",
    "builtin_function_or_method",
    "instance",
    "_Feature"
   ],
   "window_display": false
  }
 },
 "nbformat": 4,
 "nbformat_minor": 5
}
